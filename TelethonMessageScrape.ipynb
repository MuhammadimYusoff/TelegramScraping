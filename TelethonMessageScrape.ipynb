{
 "cells": [
  {
   "cell_type": "code",
   "execution_count": 1,
   "metadata": {},
   "outputs": [],
   "source": [
    "# 1. Fill the '.envTemplate' with your credential and rename it to '.env' only,\n",
    "# the load_dotenv() module will read the content base on the name you gave in the file, case sensitive.\n",
    "\n",
    "# 2. Importing necessary packages, make sure to pip install <packageName> first\n",
    "import os\n",
    "from dotenv import load_dotenv\n",
    "\n",
    "# 3. Loading API Credentials\n",
    "load_dotenv()\n",
    "api_id = os.getenv(\"API_ID\")\n",
    "api_hash = os.getenv(\"API_HASH\")\n",
    "username = os.getenv(\"USERNAME\")\n",
    "\n",
    "# Example Channel to scrape, IF fails you have to JOIN the channel.\n",
    "watsons = os.getenv(\"WATSONS\") # Watsons\n",
    "devhub = os.getenv(\"DEVHUB\") # DevHub"
   ]
  },
  {
   "cell_type": "code",
   "execution_count": 2,
   "metadata": {},
   "outputs": [
    {
     "name": "stdout",
     "output_type": "stream",
     "text": [
      "Signed in successfully as Muhammadim\n"
     ]
    }
   ],
   "source": [
    "import pandas as pd\n",
    "from telethon.sync import TelegramClient\n",
    "\n",
    "# ----------------------- CHANNEL TO SCRAPE, WORD TO SEARCH AND DATA STORAGE -----------------------\n",
    "channelName = devhub # Channel to scrape, you can use the channel link or username starts with @\n",
    "searchWord = '#python' # Word to search in str format\n",
    "CSVOutputFileName = 'CSVFilterFile.csv' # Make sure to add '.csv' as file extension\n",
    "JSONOutputFileName = 'JSONFileName.json' # Make sure to add '.json' as file extension\n",
    "data = [] # stores all our data in the format SENDER_ID, MSG\n",
    "\n",
    "\n",
    "# ------------------- MAIN FUNCTION ----------------------------\n",
    "async with TelegramClient(username, api_id, api_hash) as client:\n",
    "    async for message in client.iter_messages( channelName, search= searchWord, limit= 100 ):\n",
    "        data.append([message.sender_id, message.text]) # In this example we are taking the sender_id and their message.\n",
    "\n",
    "\n",
    "# ------------------ OUTPUT FILE YOU WANT TO USE -------------------------\n",
    "## Create CSV file as output\n",
    "df = pd.DataFrame(data, columns=['SENDER', 'MESSAGE']) # Creates a new dataframe\n",
    "df.to_csv(CSVOutputFileName, encoding='utf-8') # Save to a CSV file\n",
    "\n",
    "## Create JSON file as output\n",
    "df.to_json(JSONOutputFileName) # Convert DataFrame to JSON.\n",
    "# You can use your IDE formatter to 'arrange' the content of the JSON file"
   ]
  }
 ],
 "metadata": {
  "kernelspec": {
   "display_name": "Python 3",
   "language": "python",
   "name": "python3"
  },
  "language_info": {
   "codemirror_mode": {
    "name": "ipython",
    "version": 3
   },
   "file_extension": ".py",
   "mimetype": "text/x-python",
   "name": "python",
   "nbconvert_exporter": "python",
   "pygments_lexer": "ipython3",
   "version": "3.10.11"
  },
  "orig_nbformat": 4
 },
 "nbformat": 4,
 "nbformat_minor": 2
}
