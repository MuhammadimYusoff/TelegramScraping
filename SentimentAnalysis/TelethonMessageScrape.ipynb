{
 "cells": [
  {
   "cell_type": "code",
   "execution_count": null,
   "metadata": {},
   "outputs": [],
   "source": [
    "# 1. Fill the '.envTemplate' with your credential and rename it to '.env' only,\n",
    "# the load_dotenv() module will read the content base on the name you gave in the file, case sensitive.\n",
    "\n",
    "# 2. Importing necessary packages, make sure to pip install <packageName> first\n",
    "import os\n",
    "from dotenv import load_dotenv\n",
    "\n",
    "# 3. Loading API Credentials\n",
    "load_dotenv()\n",
    "api_id = os.getenv(\"API_ID\")\n",
    "api_hash = os.getenv(\"API_HASH\")\n",
    "username = os.getenv(\"USERNAME\")\n",
    "\n",
    "# Example Channel to scrape, IF fails you have to JOIN the channel.\n",
    "watsons = os.getenv(\"WATSONS\") # Watsons\n",
    "devhub = os.getenv(\"DEVHUB\") # DevHub\n",
    "# Channel for Assignments\n",
    "cplaction = \"https://t.me/cplaction\" # Will close\n",
    "childrenshd = \"https://t.me/childrenshd\"  # CA Michigan Group\n",
    "pediatrics1s = \"https://t.me/Pediatrics1s\" # Not Malaysia\n",
    "SaveOurChildren2023 = \"https://t.me/SAVEOURCHILDREN2023\" # Trafficking News\n",
    "stopCA = \"https://t.me/stopCA\" # Child Abuse Channel report counter"
   ]
  },
  {
   "cell_type": "code",
   "execution_count": null,
   "metadata": {},
   "outputs": [],
   "source": [
    "import pandas as pd\n",
    "from telethon.sync import TelegramClient\n",
    "\n",
    "# ----------------------- CHANNEL TO SCRAPE, WORD TO SEARCH AND DATA STORAGE -----------------------\n",
    "channelName = SaveOurChildren2023 # Channel to scrape, you can use the channel link or username starts with @\n",
    "searchWord = '#childabuse, child abuse' # Word to search in str format\n",
    "CSVOutputFileName = 'childAbuseSearchOutput.csv' # Make sure to add '.csv' as file extension\n",
    "JSONOutputFileName = 'childAbuseSearchOutput.json' # Make sure to add '.json' as file extension\n",
    "data = [] # stores all our data in the format SENDER_ID, MSG\n",
    "\n",
    "\n",
    "# ------------------- MAIN FUNCTION ----------------------------\n",
    "async with TelegramClient(username, api_id, api_hash) as client:\n",
    "    async for message in client.iter_messages( channelName, search= searchWord, limit= 100 ):\n",
    "        data.append([message.sender_id, message.text]) # In this example we are taking the sender_id and their message.\n",
    "\n",
    "\n",
    "# ------------------ OUTPUT FILE YOU WANT TO USE -------------------------\n",
    "## Create CSV file as output\n",
    "df = pd.DataFrame(data, columns=['SENDER', 'MESSAGE']) # Creates a new dataframe\n",
    "df.to_csv(CSVOutputFileName, encoding='utf-8') # Save to a CSV file\n",
    "\n",
    "## Create JSON file as output\n",
    "df.to_json(JSONOutputFileName) # Convert DataFrame to JSON.\n",
    "# You can use your IDE formatter to 'arrange' the content of the JSON file"
   ]
  },
  {
   "cell_type": "code",
   "execution_count": 5,
   "metadata": {},
   "outputs": [
    {
     "ename": "FileNotFoundError",
     "evalue": "[Errno 2] No such file or directory: '\\\\TelegramScraping\\\\SentimentAnalysis\\\\booster_inc.txt'",
     "output_type": "error",
     "traceback": [
      "\u001b[1;31m---------------------------------------------------------------------------\u001b[0m",
      "\u001b[1;31mFileNotFoundError\u001b[0m                         Traceback (most recent call last)",
      "Cell \u001b[1;32mIn[5], line 22\u001b[0m\n\u001b[0;32m     18\u001b[0m array_names \u001b[39m=\u001b[39m [\u001b[39m'\u001b[39m\u001b[39mbooster_inc\u001b[39m\u001b[39m'\u001b[39m, \u001b[39m'\u001b[39m\u001b[39mbooster_decr\u001b[39m\u001b[39m'\u001b[39m, \u001b[39m'\u001b[39m\u001b[39mnegation\u001b[39m\u001b[39m'\u001b[39m, \u001b[39m'\u001b[39m\u001b[39mnegative\u001b[39m\u001b[39m'\u001b[39m, \u001b[39m'\u001b[39m\u001b[39mpositive\u001b[39m\u001b[39m'\u001b[39m]\n\u001b[0;32m     20\u001b[0m \u001b[39mfor\u001b[39;00m file_name, array_name \u001b[39min\u001b[39;00m \u001b[39mzip\u001b[39m(file_names, array_names):\n\u001b[0;32m     21\u001b[0m     \u001b[39m# Open the file in read mode\u001b[39;00m\n\u001b[1;32m---> 22\u001b[0m     \u001b[39mwith\u001b[39;00m \u001b[39mopen\u001b[39;49m(file_name, \u001b[39m'\u001b[39;49m\u001b[39mr\u001b[39;49m\u001b[39m'\u001b[39;49m) \u001b[39mas\u001b[39;00m file:\n\u001b[0;32m     23\u001b[0m         \u001b[39m# Read the contents of the file\u001b[39;00m\n\u001b[0;32m     24\u001b[0m         file_contents \u001b[39m=\u001b[39m file\u001b[39m.\u001b[39mread()\n\u001b[0;32m     26\u001b[0m         \u001b[39m# Split the contents into words using a comma as the delimiter\u001b[39;00m\n",
      "File \u001b[1;32m~\\AppData\\Roaming\\Python\\Python310\\site-packages\\IPython\\core\\interactiveshell.py:284\u001b[0m, in \u001b[0;36m_modified_open\u001b[1;34m(file, *args, **kwargs)\u001b[0m\n\u001b[0;32m    277\u001b[0m \u001b[39mif\u001b[39;00m file \u001b[39min\u001b[39;00m {\u001b[39m0\u001b[39m, \u001b[39m1\u001b[39m, \u001b[39m2\u001b[39m}:\n\u001b[0;32m    278\u001b[0m     \u001b[39mraise\u001b[39;00m \u001b[39mValueError\u001b[39;00m(\n\u001b[0;32m    279\u001b[0m         \u001b[39mf\u001b[39m\u001b[39m\"\u001b[39m\u001b[39mIPython won\u001b[39m\u001b[39m'\u001b[39m\u001b[39mt let you open fd=\u001b[39m\u001b[39m{\u001b[39;00mfile\u001b[39m}\u001b[39;00m\u001b[39m by default \u001b[39m\u001b[39m\"\u001b[39m\n\u001b[0;32m    280\u001b[0m         \u001b[39m\"\u001b[39m\u001b[39mas it is likely to crash IPython. If you know what you are doing, \u001b[39m\u001b[39m\"\u001b[39m\n\u001b[0;32m    281\u001b[0m         \u001b[39m\"\u001b[39m\u001b[39myou can use builtins\u001b[39m\u001b[39m'\u001b[39m\u001b[39m open.\u001b[39m\u001b[39m\"\u001b[39m\n\u001b[0;32m    282\u001b[0m     )\n\u001b[1;32m--> 284\u001b[0m \u001b[39mreturn\u001b[39;00m io_open(file, \u001b[39m*\u001b[39margs, \u001b[39m*\u001b[39m\u001b[39m*\u001b[39mkwargs)\n",
      "\u001b[1;31mFileNotFoundError\u001b[0m: [Errno 2] No such file or directory: '\\\\TelegramScraping\\\\SentimentAnalysis\\\\booster_inc.txt'"
     ]
    }
   ],
   "source": [
    "# Load the text files:\n",
    "# Dictionary to store the arrays\n",
    "file_arrays = {\n",
    "    'booster_inc': [],\n",
    "    'booster_decr': [],\n",
    "    'negation': [],\n",
    "    'negative': [],\n",
    "    'positive': []\n",
    "}\n",
    "\n",
    "# Iterate over the file names and corresponding array names\n",
    "file_names = ['\\\\TelegramScraping\\\\SentimentAnalysis\\\\booster_inc.txt', \n",
    "              '\\\\TelegramScraping\\\\SentimentAnalysis\\\\booster_decr.txt', \n",
    "              '\\\\TelegramScraping\\\\SentimentAnalysis\\\\negation.txt', \n",
    "              '\\\\TelegramScraping\\\\SentimentAnalysis\\\\negative.txt', \n",
    "              '\\\\TelegramScraping\\\\SentimentAnalysis\\\\positive.txt'\n",
    "              ]\n",
    "array_names = ['booster_inc', 'booster_decr', 'negation', 'negative', 'positive']\n",
    "\n",
    "for file_name, array_name in zip(file_names, array_names):\n",
    "    # Open the file in read mode\n",
    "    with open(file_name, 'r') as file:\n",
    "        # Read the contents of the file\n",
    "        file_contents = file.read()\n",
    "        \n",
    "        # Split the contents into words using a comma as the delimiter\n",
    "        words = file_contents.split(',')\n",
    "        \n",
    "        # Store the words in the corresponding array\n",
    "        file_arrays[array_name] = words\n",
    "\n",
    "# Access and print the contents of each array\n",
    "for array_name, arr in file_arrays.items():\n",
    "    print(f\"Contents of {array_name}:\")\n",
    "    for word in arr:\n",
    "        print(word)\n",
    "    print()\n",
    "\n",
    "\n",
    "# Store the texts into an array and calculate the number of each sentiment\n",
    "positive = 0\n",
    "negative = 0\n",
    "negation = 0\n",
    "booster_inc = 0\n",
    "booster_decr = 0\n",
    "\n",
    "\n",
    "\n",
    "\n"
   ]
  }
 ],
 "metadata": {
  "kernelspec": {
   "display_name": "Python 3",
   "language": "python",
   "name": "python3"
  },
  "language_info": {
   "codemirror_mode": {
    "name": "ipython",
    "version": 3
   },
   "file_extension": ".py",
   "mimetype": "text/x-python",
   "name": "python",
   "nbconvert_exporter": "python",
   "pygments_lexer": "ipython3",
   "version": "3.10.11"
  },
  "orig_nbformat": 4
 },
 "nbformat": 4,
 "nbformat_minor": 2
}
