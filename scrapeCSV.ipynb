{
 "cells": [
  {
   "cell_type": "code",
   "execution_count": null,
   "metadata": {},
   "outputs": [],
   "source": [
    "# 2. Importing necessary packages\n",
    "from dotenv import load_dotenv\n",
    "import os\n",
    "from telethon.sync import TelegramClient, events\n",
    "\n",
    "# 3. Loading API Credentials\n",
    "load_dotenv()\n",
    "api_id = os.getenv(\"API_ID\")\n",
    "api_hash = os.getenv(\"API_HASH\")\n",
    "username = os.getenv(\"USERNAME\")\n",
    "test_config = os.getenv(\"TEST_CONFIG\")\n",
    "test_config_public_key = os.getenv(\"TEST_CONFIG_PUBLIC_KEY\")\n",
    "prod_config = os.getenv(\"PROD_CONFIG\")\n",
    "prod_config_public_key = os.getenv(\"PROD_CONFIG_PUBLIC_KEY\")\n",
    "watsons = os.getenv(\"WATSONS\") # Watsons\n",
    "devhub = os.getenv(\"DEVHUB\") # DevHub\n",
    "phone = os.getenv(\"PHONE\") # Phone Number"
   ]
  },
  {
   "cell_type": "code",
   "execution_count": null,
   "metadata": {},
   "outputs": [],
   "source": [
    "import pandas as pd\n",
    "import json\n",
    "from telethon.sync import TelegramClient\n",
    "\n",
    "data = [] # stores all our data in the format SENDER_ID, MSG\n",
    "\n",
    "async with TelegramClient(username, api_id, api_hash) as client:\n",
    "    # async for message in client.iter_messages(devhub, search= '#python'):\n",
    "    async for message in client.iter_messages(devhub, search= '#python'):\n",
    "        data.append([message.sender_id, message.text])\n",
    "\n",
    "df = pd.DataFrame(data, columns=['SENDER', 'MESSAGE']) # creates a new dataframe\n",
    "df.to_json('FilterPython.json')\n",
    "df.to_csv('FilterPython.csv', encoding='utf-8') # save to a CSV file"
   ]
  }
 ],
 "metadata": {
  "kernelspec": {
   "display_name": "Python 3",
   "language": "python",
   "name": "python3"
  },
  "language_info": {
   "codemirror_mode": {
    "name": "ipython",
    "version": 3
   },
   "file_extension": ".py",
   "mimetype": "text/x-python",
   "name": "python",
   "nbconvert_exporter": "python",
   "pygments_lexer": "ipython3",
   "version": "3.10.11"
  },
  "orig_nbformat": 4
 },
 "nbformat": 4,
 "nbformat_minor": 2
}
