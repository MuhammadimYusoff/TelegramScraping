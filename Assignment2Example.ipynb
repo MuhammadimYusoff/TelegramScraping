{
 "cells": [
  {
   "cell_type": "code",
   "execution_count": 1,
   "metadata": {},
   "outputs": [],
   "source": [
    "# Irfan Rifqi bin Azmi 1919045\n",
    "# Muhammad Zulfikhry bin Ahmad Zolfi 1920691\n",
    "# Wan Fathihul Akram bin Wan Mansor 1914131\n",
    "# Abdulrahman Alaidaros 1826053\n",
    "\n",
    "# Import Libraries from \n",
    "import sys\n",
    "import tweepy\n",
    "import matplotlib.pyplot as plt\n",
    "import pandas as pd\n",
    "import numpy as np\n",
    "import os\n",
    "import nltk\n",
    "import pycountry\n",
    "import re\n",
    "import string\n",
    "from wordcloud import WordCloud, STOPWORDS\n",
    "from PIL import Image\n",
    "from nltk.sentiment.vader import SentimentIntensityAnalyzer\n",
    "from langdetect import detect\n",
    "from nltk.stem import SnowballStemmer\n",
    "from nltk.sentiment.vader import SentimentIntensityAnalyzer\n",
    "from sklearn.feature_extraction.text import CountVectorizer\n"
   ]
  },
  {
   "cell_type": "code",
   "execution_count": 2,
   "metadata": {},
   "outputs": [],
   "source": [
    "# Authentication\n",
    "consumerKey = 'besptMmssSrqTDxgGCXjimxko'\n",
    "consumerSecret = 'fTfoq7G757chyrTIciQMwUoB1mUF5EUE8o5CjunVArOI6cfx25'\n",
    "accessToken = '997954534554005504-y5AjthbzSG853CqIwHa7Dp6loOotwDX'\n",
    "accessTokenSecret = 'gYlaYVi7ERT0rDjI9Gb1dEVKeXmn89LptUHlp1pQCLgbM'\n",
    "auth = tweepy.OAuthHandler(consumerKey, consumerSecret)\n",
    "auth.set_access_token(accessToken, accessTokenSecret)\n",
    "api = tweepy.API(auth)"
   ]
  },
  {
   "cell_type": "code",
   "execution_count": 19,
   "metadata": {},
   "outputs": [
    {
     "name": "stdout",
     "output_type": "stream",
     "text": [
      "Statement: Checks found that soil movements are still occurring and the road will be closed.\n",
      "\n",
      "#theSun #theSundaily… https://t.co/z3J12GRtAo\n",
      "#NSTnation A 54- second voice note went viral on social media alleging that there had been a #landslide at… https://t.co/JgKWl63soy\n",
      "My prayers &amp; respect to the #BatangKali victims this Chinese New Year who have passed away. \n",
      "Wishing their family p… https://t.co/mMaJRZdBh2\n",
      "#NSTnation The full #report on the #landslide tragedy at the Father's Organic Farm campsite in #BatangKali, Selango… https://t.co/g97pf3E9pQ\n",
      "'The full report of the incident will be tabled to the Cabinet'\n",
      "\n",
      "#theSun #theSundaily #news #Malaysia #batangkali… https://t.co/PPtmCwyQ2A\n",
      "The full report on the landslide tragedy which occurred last December at the Father's Organic Farm campsite in Bata… https://t.co/9C2OlpWGj0\n",
      "A preliminary report was tabled in the Cabinet earlier this month during which several issues were raised to make t… https://t.co/awFnQRJzgf\n",
      "#BatangKali #landslide: \"Reenergise environmental #education in schools &amp; go back to the basic tenets of… https://t.co/IkZElIjc2t\n",
      "'At first I went to the back of the tent and was shocked to see that dozens of other tents were no longer visible'… https://t.co/EWjQ8DsBOK\n",
      "Quek said among the episodes still freshly seared into his memory was rescuing a mother and her child who were buri… https://t.co/tTQs0yLrdA\n",
      "RT myedgeprop: Another RM21.1m allocated to fix slope damage in Batang Kali landslide site #BatangKali #landslide… https://t.co/3UBJGcwwtf\n",
      "Menteri Besar Datuk Seri Amirudin Shari said the additional allocation had been proposed by the Public Works Depart… https://t.co/LxROIpRsdI\n",
      "Positive tweets percentage:  1.0\n",
      "Neutral tweets percentage:  7.0\n",
      "Negative tweets percentage:  4.0\n"
     ]
    }
   ],
   "source": [
    "from textblob import TextBlob\n",
    "\n",
    "\n",
    "def percentage(part, whole):\n",
    "    return 100 * float(part)/float(whole)\n",
    "\n",
    "keywords = '#BatangKali , #BatangKaliLandslide , #landslide , #tanahruntuh'\n",
    "keywords = keywords.replace(',',' OR ')\n",
    "noOfTweet = 100\n",
    "\n",
    "tweets = tweepy.Cursor(api.search_tweets ,q=keywords  ,lang='en',geocode = '3.180967,101.715546,1000km' ).items(noOfTweet)\n",
    "positive = 0\n",
    "negative = 0\n",
    "neutral = 0\n",
    "polarity = 0\n",
    "tweet_list = []\n",
    "neutral_list = []\n",
    "negative_list = []\n",
    "positive_list = []\n",
    "\n",
    "for tweets in tweets:\n",
    "    print(tweets.text)\n",
    "    tweet_list.append(tweets.text)\n",
    "    analysis = TextBlob(tweets.text)\n",
    "    score = SentimentIntensityAnalyzer().polarity_scores(tweets.text)\n",
    "    neg = score['neg']\n",
    "    neu = score['neu']\n",
    "    pos = score['pos']\n",
    "    comp = score['compound']\n",
    "    polarity += analysis.sentiment.polarity\n",
    "\n",
    "    if neg > pos:\n",
    "        negative_list.append(tweets.text)\n",
    "        negative += 1\n",
    "      \n",
    "\n",
    "    elif pos > neg:\n",
    "        positive_list.append(tweets.text)\n",
    "        positive += 1\n",
    "\n",
    "    elif pos == neg:\n",
    "        neutral_list.append(tweets.text)\n",
    "        neutral += 1\n",
    "\n",
    "positive_score = percentage(positive, noOfTweet)\n",
    "neutral_score = percentage(neutral, noOfTweet)\n",
    "negative_score = percentage(negative, noOfTweet)\n",
    "\n",
    "print(\"Positive tweets percentage: \", positive_score)\n",
    "print(\"Neutral tweets percentage: \", neutral_score)\n",
    "print(\"Negative tweets percentage: \", negative_score)\n",
    "\n"
   ]
  },
  {
   "cell_type": "code",
   "execution_count": 21,
   "metadata": {},
   "outputs": [
    {
     "data": {
      "text/plain": [
       "<AxesSubplot:xlabel='sentiment', ylabel='percentage'>"
      ]
     },
     "execution_count": 21,
     "metadata": {},
     "output_type": "execute_result"
    },
    {
     "data": {
      "image/png": "[encoded data removed]",
      "text/plain": [
       "<Figure size 432x288 with 1 Axes>"
      ]
     },
     "metadata": {
      "needs_background": "light"
     },
     "output_type": "display_data"
    }
   ],
   "source": [
    "import seaborn as sns\n",
    "\n",
    "data = {'sentiment': ['positive', 'negative', 'neutral'], 'percentage': [positive, negative, neutral]}\n",
    "df = pd.DataFrame(data)\n",
    "\n",
    "sns.barplot(x='sentiment', y='percentage', data=df)\n"
   ]
  }
 ],
 "metadata": {
  "kernelspec": {
   "display_name": "Python 3",
   "language": "python",
   "name": "python3"
  },
  "language_info": {
   "codemirror_mode": {
    "name": "ipython",
    "version": 3
   },
   "file_extension": ".py",
   "mimetype": "text/x-python",
   "name": "python",
   "nbconvert_exporter": "python",
   "pygments_lexer": "ipython3",
   "version": "3.10.4"
  },
  "orig_nbformat": 4,
  "vscode": {
   "interpreter": {
    "hash": "320ed878e25ca392f3be41bea248685477abe9dc512929b790a82db18af73468"
   }
  }
 },
 "nbformat": 4,
 "nbformat_minor": 2
}
