{
 "cells": [
  {
   "cell_type": "code",
   "execution_count": null,
   "metadata": {},
   "outputs": [],
   "source": [
    "# 2. Importing necessary packages\n",
    "import time\n",
    "import pandas as pd\n",
    "from dotenv import load_dotenv\n",
    "import os\n",
    "import json\n",
    "\n",
    "# 3. Loading API Credentials\n",
    "load_dotenv()\n",
    "api_id = os.getenv(\"API_ID\")\n",
    "api_hash = os.getenv(\"API_HASH\")\n",
    "test_config = os.getenv(\"TEST_CONFIG\")\n",
    "test_config_public_key = os.getenv(\"TEST_CONFIG_PUBLIC_KEY\")\n",
    "prod_config = os.getenv(\"PROD_CONFIG\")\n",
    "prod_config_public_key = os.getenv(\"PROD_CONFIG_PUBLIC_KEY\")\n",
    "phone = os.getenv(\"PHONE\")\n",
    "username = os.getenv(\"USERNAME\")\n",
    "watsons = os.getenv(\"WATSONS\")\n",
    "devhub = os.getenv(\"DEVHUB\")"
   ]
  }
 ],
 "metadata": {
  "language_info": {
   "name": "python"
  },
  "orig_nbformat": 4
 },
 "nbformat": 4,
 "nbformat_minor": 2
}
