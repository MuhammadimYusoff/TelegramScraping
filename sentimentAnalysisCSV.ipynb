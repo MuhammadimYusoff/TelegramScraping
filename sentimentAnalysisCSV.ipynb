{
 "cells": [
  {
   "cell_type": "code",
   "execution_count": null,
   "metadata": {},
   "outputs": [],
   "source": [
    "# Data Import\n",
    "import pandas as pd\n",
    "df = pd.read_csv('childAbuseSearchOutput.csv')\n",
    "df.head()"
   ]
  },
  {
   "cell_type": "code",
   "execution_count": 4,
   "metadata": {},
   "outputs": [
    {
     "data": {
      "text/html": [
       "        <script type=\"text/javascript\">\n",
       "        window.PlotlyConfig = {MathJaxConfig: 'local'};\n",
       "        if (window.MathJax && window.MathJax.Hub && window.MathJax.Hub.Config) {window.MathJax.Hub.Config({SVG: {font: \"STIX-Web\"}});}\n",
       "        if (typeof require !== 'undefined') {\n",
       "        require.undef(\"plotly\");\n",
       "        requirejs.config({\n",
       "            paths: {\n",
       "                'plotly': ['https://cdn.plot.ly/plotly-2.24.1.min']\n",
       "            }\n",
       "        });\n",
       "        require(['plotly'], function(Plotly) {\n",
       "            window._Plotly = Plotly;\n",
       "        });\n",
       "        }\n",
       "        </script>\n",
       "        "
      ]
     },
     "metadata": {},
     "output_type": "display_data"
    },
    {
     "name": "stdout",
     "output_type": "stream",
     "text": [
      "['a+' 'abound' 'abounds' ... 'zenith' 'zest' 'zippy']\n"
     ]
    }
   ],
   "source": [
    "# Packages Import\n",
    "import matplotlib.pyplot as plt\n",
    "import seaborn as sns\n",
    "import numpy as np\n",
    "color = sns.color_palette()\n",
    "%matplotlib inline\n",
    "import plotly.offline as py\n",
    "py.init_notebook_mode(connected=True)\n",
    "import plotly.graph_objs as go\n",
    "import plotly.tools as tls\n",
    "import plotly.express as px\n",
    "\n",
    "# Word filters Import\n",
    "positiveWordsFile = 'SentimentAnalysis\\\\positive.txt'\n",
    "negativeWordsFile = 'SentimentAnalysis\\\\negative.txt'\n",
    "negationWordsFile = 'SentimentAnalysis\\\\negation.txt'\n",
    "boosterIncWordsFile = 'SentimentAnalysis\\\\booster_inc.txt'\n",
    "boosterDecrWordsFile = 'SentimentAnalysis\\\\booster_decr.txt'\n",
    "\n",
    "# Sentiment Text Files Import\n",
    "positiveWordsData = np.loadtxt(positiveWordsFile, skiprows=0, dtype=str)\n",
    "negativeWordsData = np.loadtxt(negativeWordsFile, skiprows=0, dtype=str)\n",
    "negationWordsData = np.loadtxt(negationWordsFile, skiprows=0, dtype=str)\n",
    "boosterIncWordsData = np.loadtxt(boosterIncWordsFile, skiprows=0, dtype=str)\n",
    "boosterDecrWordsData = np.loadtxt(boosterDecrWordsFile, skiprows=0, dtype=str)\n",
    "# print(positiveWordsData)"
   ]
  },
  {
   "cell_type": "code",
   "execution_count": null,
   "metadata": {},
   "outputs": [],
   "source": [
    "import nltk\n",
    "from nltk.corpus import stopwords\n",
    "\n",
    "# Create stopword list:\n",
    "stopwords = set(stopwords)\n",
    "stopwords.update(\"br\", \"href\")"
   ]
  },
  {
   "cell_type": "code",
   "execution_count": null,
   "metadata": {},
   "outputs": [],
   "source": []
  }
 ],
 "metadata": {
  "kernelspec": {
   "display_name": "Python 3",
   "language": "python",
   "name": "python3"
  },
  "language_info": {
   "codemirror_mode": {
    "name": "ipython",
    "version": 3
   },
   "file_extension": ".py",
   "mimetype": "text/x-python",
   "name": "python",
   "nbconvert_exporter": "python",
   "pygments_lexer": "ipython3",
   "version": "3.10.11"
  },
  "orig_nbformat": 4
 },
 "nbformat": 4,
 "nbformat_minor": 2
}
