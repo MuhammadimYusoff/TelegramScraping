{
 "cells": [
  {
   "cell_type": "code",
   "execution_count": 5,
   "metadata": {},
   "outputs": [
    {
     "data": {
      "text/html": [
       "<div>\n",
       "<style scoped>\n",
       "    .dataframe tbody tr th:only-of-type {\n",
       "        vertical-align: middle;\n",
       "    }\n",
       "\n",
       "    .dataframe tbody tr th {\n",
       "        vertical-align: top;\n",
       "    }\n",
       "\n",
       "    .dataframe thead th {\n",
       "        text-align: right;\n",
       "    }\n",
       "</style>\n",
       "<table border=\"1\" class=\"dataframe\">\n",
       "  <thead>\n",
       "    <tr style=\"text-align: right;\">\n",
       "      <th></th>\n",
       "      <th>Unnamed: 0</th>\n",
       "      <th>SENDER</th>\n",
       "      <th>MESSAGE</th>\n",
       "    </tr>\n",
       "  </thead>\n",
       "  <tbody>\n",
       "    <tr>\n",
       "      <th>0</th>\n",
       "      <td>0</td>\n",
       "      <td>-1001474635205</td>\n",
       "      <td>(5/5)                                        \\...</td>\n",
       "    </tr>\n",
       "    <tr>\n",
       "      <th>1</th>\n",
       "      <td>1</td>\n",
       "      <td>-1001474635205</td>\n",
       "      <td>(4/5)                                        \\...</td>\n",
       "    </tr>\n",
       "    <tr>\n",
       "      <th>2</th>\n",
       "      <td>2</td>\n",
       "      <td>-1001474635205</td>\n",
       "      <td>(3/5)                                        \\...</td>\n",
       "    </tr>\n",
       "    <tr>\n",
       "      <th>3</th>\n",
       "      <td>3</td>\n",
       "      <td>-1001474635205</td>\n",
       "      <td>(2/5)                                        \\...</td>\n",
       "    </tr>\n",
       "    <tr>\n",
       "      <th>4</th>\n",
       "      <td>4</td>\n",
       "      <td>-1001474635205</td>\n",
       "      <td>(3/3)\\n21 June 2023       Global              ...</td>\n",
       "    </tr>\n",
       "  </tbody>\n",
       "</table>\n",
       "</div>"
      ],
      "text/plain": [
       "   Unnamed: 0         SENDER  \\\n",
       "0           0 -1001474635205   \n",
       "1           1 -1001474635205   \n",
       "2           2 -1001474635205   \n",
       "3           3 -1001474635205   \n",
       "4           4 -1001474635205   \n",
       "\n",
       "                                             MESSAGE  \n",
       "0  (5/5)                                        \\...  \n",
       "1  (4/5)                                        \\...  \n",
       "2  (3/5)                                        \\...  \n",
       "3  (2/5)                                        \\...  \n",
       "4  (3/3)\\n21 June 2023       Global              ...  "
      ]
     },
     "execution_count": 5,
     "metadata": {},
     "output_type": "execute_result"
    }
   ],
   "source": [
    "# Data Import\n",
    "import pandas as pd\n",
    "df = pd.read_csv('childAbuseSearchOutput.csv')\n",
    "df.head()"
   ]
  },
  {
   "cell_type": "code",
   "execution_count": 4,
   "metadata": {},
   "outputs": [
    {
     "data": {
      "text/html": [
       "        <script type=\"text/javascript\">\n",
       "        window.PlotlyConfig = {MathJaxConfig: 'local'};\n",
       "        if (window.MathJax && window.MathJax.Hub && window.MathJax.Hub.Config) {window.MathJax.Hub.Config({SVG: {font: \"STIX-Web\"}});}\n",
       "        if (typeof require !== 'undefined') {\n",
       "        require.undef(\"plotly\");\n",
       "        requirejs.config({\n",
       "            paths: {\n",
       "                'plotly': ['https://cdn.plot.ly/plotly-2.24.1.min']\n",
       "            }\n",
       "        });\n",
       "        require(['plotly'], function(Plotly) {\n",
       "            window._Plotly = Plotly;\n",
       "        });\n",
       "        }\n",
       "        </script>\n",
       "        "
      ]
     },
     "metadata": {},
     "output_type": "display_data"
    },
    {
     "name": "stdout",
     "output_type": "stream",
     "text": [
      "['a+' 'abound' 'abounds' ... 'zenith' 'zest' 'zippy']\n"
     ]
    }
   ],
   "source": [
    "# Packages Import\n",
    "import matplotlib.pyplot as plt\n",
    "import seaborn as sns\n",
    "import numpy as np\n",
    "color = sns.color_palette()\n",
    "%matplotlib inline\n",
    "import plotly.offline as py\n",
    "py.init_notebook_mode(connected=True)\n",
    "import plotly.graph_objs as go\n",
    "import plotly.tools as tls\n",
    "import plotly.express as px\n",
    "\n",
    "# Word filters Import\n",
    "positiveWordsFile = 'SentimentAnalysis\\\\positive.txt'\n",
    "negativeWordsFile = 'SentimentAnalysis\\\\negative.txt'\n",
    "negationWordsFile = 'SentimentAnalysis\\\\negation.txt'\n",
    "boosterIncWordsFile = 'SentimentAnalysis\\\\booster_inc.txt'\n",
    "boosterDecrWordsFile = 'SentimentAnalysis\\\\booster_decr.txt'\n",
    "\n",
    "# Sentiment Text Files Import\n",
    "positiveWordsData = np.loadtxt(positiveWordsFile, skiprows=0, dtype=str)\n",
    "negativeWordsData = np.loadtxt(negativeWordsFile, skiprows=0, dtype=str)\n",
    "negationWordsData = np.loadtxt(negationWordsFile, skiprows=0, dtype=str)\n",
    "boosterIncWordsData = np.loadtxt(boosterIncWordsFile, skiprows=0, dtype=str)\n",
    "boosterDecrWordsData = np.loadtxt(boosterDecrWordsFile, skiprows=0, dtype=str)\n",
    "# print(positiveWordsData)"
   ]
  },
  {
   "cell_type": "code",
   "execution_count": null,
   "metadata": {},
   "outputs": [],
   "source": [
    "import nltk\n",
    "from nltk.corpus import stopwords\n",
    "\n",
    "# Create stopword list:\n",
    "stopwords = set(STOPWORDS)\n",
    "stopwords.update([\"br\", \"href\"])\n",
    "text"
   ]
  },
  {
   "cell_type": "code",
   "execution_count": null,
   "metadata": {},
   "outputs": [],
   "source": []
  }
 ],
 "metadata": {
  "kernelspec": {
   "display_name": "Python 3",
   "language": "python",
   "name": "python3"
  },
  "language_info": {
   "codemirror_mode": {
    "name": "ipython",
    "version": 3
   },
   "file_extension": ".py",
   "mimetype": "text/x-python",
   "name": "python",
   "nbconvert_exporter": "python",
   "pygments_lexer": "ipython3",
   "version": "3.10.11"
  },
  "orig_nbformat": 4
 },
 "nbformat": 4,
 "nbformat_minor": 2
}
